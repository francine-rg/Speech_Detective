{
  "nbformat": 4,
  "nbformat_minor": 0,
  "metadata": {
    "colab": {
      "provenance": [],
      "authorship_tag": "ABX9TyMKrBt/EsxLy6hVHhmxCCii",
      "include_colab_link": true
    },
    "kernelspec": {
      "name": "python3",
      "display_name": "Python 3"
    },
    "language_info": {
      "name": "python"
    }
  },
  "cells": [
    {
      "cell_type": "markdown",
      "metadata": {
        "id": "view-in-github",
        "colab_type": "text"
      },
      "source": [
        "<a href=\"https://colab.research.google.com/github/francine-rg/Speech_Detective/blob/main/Detect_hate_speech.ipynb\" target=\"_parent\"><img src=\"https://colab.research.google.com/assets/colab-badge.svg\" alt=\"Open In Colab\"/></a>"
      ]
    },
    {
      "cell_type": "code",
      "execution_count": 6,
      "metadata": {
        "colab": {
          "base_uri": "https://localhost:8080/"
        },
        "id": "_qXsYXvlVStY",
        "outputId": "970b141a-b476-4c5b-aad9-1aeb4c676b5f"
      },
      "outputs": [
        {
          "output_type": "stream",
          "name": "stdout",
          "text": [
            "Hate speech detected! Offensive words: ['tutsi']\n"
          ]
        }
      ],
      "source": [
        "\n",
        "offensive_words = [\n",
        "    \"inyenzi\", \"cockroaches\", \"kill\", \"exterminate\", \"destroy\",\n",
        "    \"traitors\", \"snakes\", \"rats\", \"hutu power\", \"tutsi\",\n",
        "    \"ethnic cleansing\", \"wipe out\", \"enemy\", \"revenge\",\n",
        "    \"impurity\", \"traitors\", \"infiltrators\", \"parasites\"\n",
        "]\n",
        "# Function to detect hate speech\n",
        "def detect_hate_speech(text):\n",
        "    detected_words = [word for word in offensive_words if word in text.lower()]\n",
        "    return detected_words\n",
        "\n",
        "# Example usage\n",
        "text = \"I recently said to someone who was boasting about being in the PL [Parti liberal (Liberal Party), pro-Tutsi]: ‘The mistake we made in 1959, even though I was a child then, was that we let you leave.’ I asked him if he hadn’t heard the story of the Falashas who returned to their home in Israel from Ethiopia? He said he did not know this story. I said to him: ‘Don’t you know how to listen or read? Let me tell you that your home is in Ethiopia, and that we will send you back along the Nyabarongo river so you get there quickly.\"\n",
        "hate_words = detect_hate_speech(text)\n",
        "if hate_words:\n",
        "    print(\"Hate speech detected! Offensive words:\", hate_words)\n",
        "else:\n",
        "    print(\"No hate speech detected.\")\n"
      ]
    }
  ]
}