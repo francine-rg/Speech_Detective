{
  "nbformat": 4,
  "nbformat_minor": 0,
  "metadata": {
    "colab": {
      "provenance": [],
      "authorship_tag": "ABX9TyPvcfNo/0/p2CR/hPgGZMcp",
      "include_colab_link": true
    },
    "kernelspec": {
      "name": "python3",
      "display_name": "Python 3"
    },
    "language_info": {
      "name": "python"
    }
  },
  "cells": [
    {
      "cell_type": "markdown",
      "metadata": {
        "id": "view-in-github",
        "colab_type": "text"
      },
      "source": [
        "<a href=\"https://colab.research.google.com/github/francine-rg/Speech_Detective/blob/main/Check_similarity.ipynb\" target=\"_parent\"><img src=\"https://colab.research.google.com/assets/colab-badge.svg\" alt=\"Open In Colab\"/></a>"
      ]
    },
    {
      "cell_type": "code",
      "execution_count": 1,
      "metadata": {
        "colab": {
          "base_uri": "https://localhost:8080/"
        },
        "id": "f865agKkgOD1",
        "outputId": "68bc91b5-1846-490f-b7d5-a6967300bea2"
      },
      "outputs": [
        {
          "output_type": "stream",
          "name": "stdout",
          "text": [
            "Similarity: 0.20\n",
            "Common words: {'text', 'legal', 'This'}\n"
          ]
        }
      ],
      "source": [
        "def jaccard_similarity(text1, text2):\n",
        "    # Split texts into sets of words\n",
        "    set1 = set(text1.split())\n",
        "    set2 = set(text2.split())\n",
        "\n",
        "    # Find intersection and union\n",
        "    intersection = set1.intersection(set2)\n",
        "    union = set1.union(set2)\n",
        "\n",
        "    # Calculate Jaccard similarity\n",
        "    similarity = len(intersection) / len(union)\n",
        "\n",
        "    # Return similarity score and intersection (common words)\n",
        "    return similarity, intersection\n",
        "\n",
        "# Input texts\n",
        "text1 = \"This is a sample sample text about is this legal sample issues.\"\n",
        "text2 = \"This text legal discusses legal and ethical This issues in legal computing.\"\n",
        "\n",
        "# Calculate similarity and get common words\n",
        "similarity, common_words = jaccard_similarity(text1, text2)\n",
        "\n",
        "# Print results\n",
        "print(f\"Similarity: {similarity:.2f}\")\n",
        "print(f\"Common words: {common_words}\")"
      ]
    }
  ]
}