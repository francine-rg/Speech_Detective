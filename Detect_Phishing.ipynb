{
  "nbformat": 4,
  "nbformat_minor": 0,
  "metadata": {
    "colab": {
      "provenance": [],
      "authorship_tag": "ABX9TyP5t/x5g384Kzbb3/IHwG6m",
      "include_colab_link": true
    },
    "kernelspec": {
      "name": "python3",
      "display_name": "Python 3"
    },
    "language_info": {
      "name": "python"
    }
  },
  "cells": [
    {
      "cell_type": "markdown",
      "metadata": {
        "id": "view-in-github",
        "colab_type": "text"
      },
      "source": [
        "<a href=\"https://colab.research.google.com/github/francine-rg/Speech_Detective/blob/main/Detect_Phishing.ipynb\" target=\"_parent\"><img src=\"https://colab.research.google.com/assets/colab-badge.svg\" alt=\"Open In Colab\"/></a>"
      ]
    },
    {
      "cell_type": "code",
      "execution_count": 3,
      "metadata": {
        "colab": {
          "base_uri": "https://localhost:8080/"
        },
        "id": "-0-gSKRJiD4A",
        "outputId": "f2699745-2256-405b-e243-2e5784beddad"
      },
      "outputs": [
        {
          "output_type": "stream",
          "name": "stdout",
          "text": [
            "Phishing detection complete. ✅\n"
          ]
        }
      ],
      "source": [
        "\n",
        "import pandas as pd\n",
        "\n",
        "\n",
        "# Define phishing keywords\n",
        "phishing_keywords = [\"urgent\", \"password reset\", \"bank\", \"verify\", \"account suspended\"]\n",
        "#These are words commonly found in phishing emails.\n",
        "#The script will check if an email contains any of these words.\n",
        "\n",
        "# Load the dataset (uploaded file)\n",
        "emails = pd.read_csv(\"/content/emails - email_exercises - emails_exercises.csv\")\n",
        "\n",
        "# Check if the 'content' column exists\n",
        "if 'Content' in emails.columns:\n",
        "    # Apply phishing detection\n",
        "    emails[\"is_phishing\"] = emails[\"Content\"].apply(\n",
        "        lambda x: any(keyword in str(x).lower() for keyword in phishing_keywords)\n",
        "    )\n",
        "\n",
        "\n",
        "    # Save the processed file\n",
        "    emails.to_csv(\"/content/analyzed_emails.csv\", index=False)\n",
        "    print(\"Phishing detection complete. ✅\")\n",
        "else:\n",
        "    print(\"Error: The 'content' column is missing from the dataset.\")"
      ]
    }
  ]
}